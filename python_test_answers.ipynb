{
 "cells": [
  {
   "cell_type": "code",
   "execution_count": null,
   "id": "97d3326e",
   "metadata": {},
   "outputs": [],
   "source": [
    "#Answer 1:\n",
    "\n",
    "def count_vowels(input_string):\n",
    "    # Convert the input string to lowercase to ignore case sensitivity\n",
    "    input_string = input_string.lower()\n",
    "    \n",
    "    # Define the set of vowels\n",
    "    vowels = {'a', 'e', 'i', 'o', 'u'}\n",
    "    \n",
    "    # Initialize the count variable\n",
    "    count = 0\n",
    "    \n",
    "    # Iterate through each character in the input string\n",
    "    for char in input_string:\n",
    "        # Check if the character is a vowel\n",
    "        if char in vowels:\n",
    "            count += 1\n",
    "    \n",
    "    return count\n",
    "\n",
    "# Example usage:\n",
    "input_str = \"Hello, World!\"\n",
    "print(count_vowels(input_str))  # Output: 3\n"
   ]
  },
  {
   "cell_type": "code",
   "execution_count": null,
   "id": "d78b0acd",
   "metadata": {},
   "outputs": [],
   "source": []
  },
  {
   "cell_type": "code",
   "execution_count": null,
   "id": "2943564c",
   "metadata": {},
   "outputs": [],
   "source": [
    "#Answer 2:\n",
    "\n",
    "def unique_elements(input_list):\n",
    "    # Create an empty list to store unique elements\n",
    "    unique_list = []\n",
    "    \n",
    "    # Iterate through the input list\n",
    "    for num in input_list:\n",
    "        # If the current element is not already in the unique_list, add it\n",
    "        if num not in unique_list:\n",
    "            unique_list.append(num)\n",
    "    \n",
    "    return unique_list\n",
    "\n",
    "# Example usage:\n",
    "input_list = [1, 2, 2, 3, 4, 4, 5, 5, 5]\n",
    "print(unique_elements(input_list))  # Output: [1, 2, 3, 4, 5]\n"
   ]
  },
  {
   "cell_type": "code",
   "execution_count": null,
   "id": "7b5b0f45",
   "metadata": {},
   "outputs": [],
   "source": []
  },
  {
   "cell_type": "code",
   "execution_count": null,
   "id": "86bd39d6",
   "metadata": {},
   "outputs": [],
   "source": [
    "#Answer 3:\n",
    "\n",
    "def is_palindrome(input_string):\n",
    "    # Remove any spaces and convert the input string to lowercase\n",
    "    input_string = input_string.replace(\" \", \"\").lower()\n",
    "    \n",
    "    # Check if the input string is equal to its reverse\n",
    "    return input_string == input_string[::-1]\n",
    "\n",
    "# Example usage:\n",
    "input_str = \"abba\"\n",
    "print(is_palindrome(input_str))  # Output: True\n"
   ]
  },
  {
   "cell_type": "code",
   "execution_count": null,
   "id": "1f37f552",
   "metadata": {},
   "outputs": [],
   "source": []
  },
  {
   "cell_type": "code",
   "execution_count": null,
   "id": "3f89762e",
   "metadata": {},
   "outputs": [],
   "source": [
    "#Answer 4:\n",
    "\n",
    "def is_prime(number):\n",
    "    # Prime numbers are greater than 1\n",
    "    if number <= 1:\n",
    "        return False\n",
    "    \n",
    "    # Check for divisibility from 2 to the square root of the number (inclusive)\n",
    "    for i in range(2, int(number ** 0.5) + 1):\n",
    "        if number % i == 0:\n",
    "            return False\n",
    "    \n",
    "    return True\n",
    "\n",
    "# Example usage:\n",
    "num = 17\n",
    "print(is_prime(num))  # Output: True\n"
   ]
  },
  {
   "cell_type": "code",
   "execution_count": null,
   "id": "9349ea88",
   "metadata": {},
   "outputs": [],
   "source": []
  },
  {
   "cell_type": "code",
   "execution_count": null,
   "id": "725952a8",
   "metadata": {},
   "outputs": [],
   "source": [
    "#Answer 5:\n",
    "\n",
    "def factorial(n):\n",
    "    # Base case: Factorial of 0 and 1 is 1\n",
    "    if n == 0 or n == 1:\n",
    "        return 1\n",
    "    \n",
    "    # Recursive case: Calculate factorial using recursion\n",
    "    return n * factorial(n - 1)\n",
    "\n",
    "# Example usage:\n",
    "num = 5\n",
    "print(factorial(num))  # Output: 120\n"
   ]
  },
  {
   "cell_type": "code",
   "execution_count": null,
   "id": "561db319",
   "metadata": {},
   "outputs": [],
   "source": []
  },
  {
   "cell_type": "code",
   "execution_count": null,
   "id": "78506953",
   "metadata": {},
   "outputs": [],
   "source": [
    "#Answer 6:\n",
    "\n",
    "def common_elements(list1, list2):\n",
    "    # Convert the lists to sets to remove duplicates\n",
    "    set1 = set(list1)\n",
    "    set2 = set(list2)\n",
    "    \n",
    "    # Find the common elements using set intersection\n",
    "    common_elements_set = set1.intersection(set2)\n",
    "    \n",
    "    # Convert the set back to a list and return\n",
    "    return list(common_elements_set)\n",
    "\n",
    "# Example usage:\n",
    "list1 = [1, 2, 2, 3, 4, 5]\n",
    "list2 = [3, 3, 4, 4, 5, 6]\n",
    "print(common_elements(list1, list2))  # Output: [3, 4, 5]\n"
   ]
  },
  {
   "cell_type": "code",
   "execution_count": null,
   "id": "023f0f45",
   "metadata": {},
   "outputs": [],
   "source": []
  },
  {
   "cell_type": "code",
   "execution_count": null,
   "id": "50d6f15c",
   "metadata": {},
   "outputs": [],
   "source": [
    "#Answer 7:\n",
    "\n",
    "\n",
    "def camel_to_snake(camel_case_string):\n",
    "    # Initialize an empty string to store the snake_case version\n",
    "    snake_case_string = ''\n",
    "    \n",
    "    # Iterate through each character in the CamelCase string\n",
    "    for char in camel_case_string:\n",
    "        # Check if the character is uppercase (start of a new word)\n",
    "        if char.isupper():\n",
    "            # If it's not the first character, add an underscore before the word\n",
    "            if snake_case_string:\n",
    "                snake_case_string += '_'\n",
    "            # Convert the uppercase character to lowercase and add to the snake_case string\n",
    "            snake_case_string += char.lower()\n",
    "        else:\n",
    "            # If the character is not uppercase, add it as it is to the snake_case string\n",
    "            snake_case_string += char\n",
    "    \n",
    "    return snake_case_string\n",
    "\n",
    "# Example usage:\n",
    "camel_case_str = \"CamelCaseString\"\n",
    "print(camel_to_snake(camel_case_str))  # Output: \"camel_case_string\"\n"
   ]
  },
  {
   "cell_type": "code",
   "execution_count": null,
   "id": "7ce92832",
   "metadata": {},
   "outputs": [],
   "source": []
  }
 ],
 "metadata": {
  "kernelspec": {
   "display_name": "Python 3 (ipykernel)",
   "language": "python",
   "name": "python3"
  },
  "language_info": {
   "codemirror_mode": {
    "name": "ipython",
    "version": 3
   },
   "file_extension": ".py",
   "mimetype": "text/x-python",
   "name": "python",
   "nbconvert_exporter": "python",
   "pygments_lexer": "ipython3",
   "version": "3.11.3"
  }
 },
 "nbformat": 4,
 "nbformat_minor": 5
}
