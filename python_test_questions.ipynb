{
 "cells": [
  {
   "cell_type": "code",
   "execution_count": null,
   "id": "d0e01065",
   "metadata": {},
   "outputs": [],
   "source": [
    "#Question 1: \n",
    "\n",
    "'''Write a Python function that takes a string as input and returns the count of vowels \n",
    "(a, e, i, o, u)in the string. Ignore case sensitivity.'''"
   ]
  },
  {
   "cell_type": "code",
   "execution_count": null,
   "id": "4fd59ce0",
   "metadata": {},
   "outputs": [],
   "source": []
  },
  {
   "cell_type": "code",
   "execution_count": null,
   "id": "b6c58e74",
   "metadata": {},
   "outputs": [],
   "source": [
    "#Question 2: \n",
    "\n",
    "'''Given a list of integers, write a Python function to return a new list\n",
    "containing only the unique elements from the original list, preserving their order.'''"
   ]
  },
  {
   "cell_type": "code",
   "execution_count": null,
   "id": "250bced3",
   "metadata": {},
   "outputs": [],
   "source": []
  },
  {
   "cell_type": "code",
   "execution_count": null,
   "id": "f4a98028",
   "metadata": {},
   "outputs": [],
   "source": [
    "#Question 3: \n",
    "\n",
    "'''Write a Python function that checks if a given string is a palindrome. A palindrome is a word, phrase, number\n",
    "or other sequence of characters that reads the same backward as forward. EX: (abba)'''"
   ]
  },
  {
   "cell_type": "code",
   "execution_count": null,
   "id": "775a55de",
   "metadata": {},
   "outputs": [],
   "source": []
  },
  {
   "cell_type": "code",
   "execution_count": null,
   "id": "3d8e4a4b",
   "metadata": {},
   "outputs": [],
   "source": [
    "#Question 4: \n",
    "\n",
    "'''Write a Python function to determine if a given positive integer is a prime number.\n",
    "A prime number is only divisible by 1 and itself.'''\n",
    " "
   ]
  },
  {
   "cell_type": "code",
   "execution_count": null,
   "id": "041f0dd0",
   "metadata": {},
   "outputs": [],
   "source": []
  },
  {
   "cell_type": "code",
   "execution_count": null,
   "id": "f5fd6516",
   "metadata": {},
   "outputs": [],
   "source": [
    "#Question 5: \n",
    "\n",
    "'''Implement a Python function to calculate the factorial of a given non-negative integer 'n'.'''\n"
   ]
  },
  {
   "cell_type": "code",
   "execution_count": null,
   "id": "0478ac2b",
   "metadata": {},
   "outputs": [],
   "source": []
  },
  {
   "cell_type": "code",
   "execution_count": null,
   "id": "4e1ae578",
   "metadata": {},
   "outputs": [],
   "source": [
    "#Question 6: \n",
    "\n",
    "'''Write a Python function that takes two lists as input and returns a new list containing elements\n",
    "that appear in both lists, without any duplicates.'''\n"
   ]
  },
  {
   "cell_type": "code",
   "execution_count": null,
   "id": "a9fb0aee",
   "metadata": {},
   "outputs": [],
   "source": []
  },
  {
   "cell_type": "code",
   "execution_count": null,
   "id": "27358389",
   "metadata": {},
   "outputs": [],
   "source": [
    "#Question 7: \n",
    "\n",
    "'''Implement a Python function that converts a CamelCase string to snake_case.\n",
    "For example, \"CamelCaseString\" should become \"camel_case_string.\"'''\n"
   ]
  },
  {
   "cell_type": "code",
   "execution_count": null,
   "id": "8ad79dc6",
   "metadata": {},
   "outputs": [],
   "source": []
  }
 ],
 "metadata": {
  "kernelspec": {
   "display_name": "Python 3 (ipykernel)",
   "language": "python",
   "name": "python3"
  },
  "language_info": {
   "codemirror_mode": {
    "name": "ipython",
    "version": 3
   },
   "file_extension": ".py",
   "mimetype": "text/x-python",
   "name": "python",
   "nbconvert_exporter": "python",
   "pygments_lexer": "ipython3",
   "version": "3.11.3"
  }
 },
 "nbformat": 4,
 "nbformat_minor": 5
}
